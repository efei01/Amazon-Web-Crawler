{
 "cells": [
  {
   "cell_type": "code",
   "execution_count": null,
   "id": "c2d138cf-01a4-44f4-ae94-5e0b5da85ab6",
   "metadata": {},
   "outputs": [],
   "source": [
    "import numpy as np\n",
    "import pandas as pd\n",
    "import os \n",
    "import re"
   ]
  },
  {
   "cell_type": "markdown",
   "id": "f6f78fd8-6e3a-46bf-9529-16edd4cbf611",
   "metadata": {},
   "source": [
    "# Clean Data"
   ]
  },
  {
   "cell_type": "markdown",
   "id": "10cfd58e-8886-4f07-9ca8-c770d5f4695d",
   "metadata": {},
   "source": [
    "### Load data and clean up product information"
   ]
  },
  {
   "cell_type": "code",
   "execution_count": null,
   "id": "f4f20874-2b94-4f2b-8580-f1dfda10e79b",
   "metadata": {},
   "outputs": [],
   "source": [
    "# Clean data\n",
    "import os\n",
    "\n",
    "folder_path = 'path to folder with data'\n",
    "\n",
    "dfs = [] # list to hold all dataframes prior to concatenation\n",
    "\n",
    "for file_name in os.listdir(folder_path):\n",
    "    if file_name.endswith('.csv'):\n",
    "        file_path = os.path.join(folder_path, file_name)\n",
    "        df = pd.read_csv(file_path)\n",
    "        dfs.append(df)\n",
    "\n",
    "product_data_all = pd.concat(dfs)\n",
    "\n",
    "product_data_all.rename(columns={'Number of Ratings': 'Number_of_Ratings', 'Monthly Purchases': 'Monthly_Purchases', 'Product Information': 'Product_Information'}, inplace=True) # replace spaces with underscores\n",
    "\n",
    "product_data_all.head()"
   ]
  },
  {
   "cell_type": "code",
   "execution_count": null,
   "id": "e56b3118-4a47-4900-b95d-80d0f096f65b",
   "metadata": {},
   "outputs": [],
   "source": [
    "product_data_all.shape"
   ]
  },
  {
   "cell_type": "code",
   "execution_count": null,
   "id": "636a57e8-5bcc-4b69-b031-34ff51fec08f",
   "metadata": {},
   "outputs": [],
   "source": [
    "product_data_all.isna().sum()"
   ]
  },
  {
   "cell_type": "code",
   "execution_count": null,
   "id": "9ec797dc-1ae9-4c11-a09a-9712870e3fff",
   "metadata": {},
   "outputs": [],
   "source": [
    "product_data_all.isna().any(axis=1).sum()"
   ]
  },
  {
   "cell_type": "code",
   "execution_count": null,
   "id": "1a7012ff-6006-4b8b-a944-abd0b09d475f",
   "metadata": {},
   "outputs": [],
   "source": [
    "# remove unnecessary phrases from Product_Information\n",
    "\n",
    "product_info_cleaned = []\n",
    "\n",
    "for i in range(len(product_data_all)):\n",
    "    if type(product_data_all.iloc[i, 5]) != str:\n",
    "        product_info_cleaned.append(None)\n",
    "        continue\n",
    "    else:\n",
    "        info = product_data_all.iloc[i, 5]\n",
    "    \n",
    "    while \"\\n\" in info or \"\\u200e\" in info or \"Product information\" in info or \"Technical Details\" in info or \"Additional Information\" in info or \"out of 5 stars\" in info or \"Collapse All\" in info or \"Collapse all\" in info or \"Expand All\" in info or \"Measurements\" in info or \"Item details\" in info or \"Features & Specs\" in info or \"User guide\" in info or \"          Style  \" in info or \"Materials & Care\" in info or \"Summary\" in info or \"Other Technical Details\" in info:\n",
    "        if \"\\n\" in info:\n",
    "            index = info.find(\"\\n\")\n",
    "            info = info[:index] + info[index+1:]\n",
    "        if \"\\u200e\" in info:\n",
    "            index = info.find(\"\\u200e\")               \n",
    "            info = info[:index] + info[index+1:]\n",
    "        if \"Product information\" in info:\n",
    "            index = info.find(\"Product information\")\n",
    "            info = info[:index] + info[index+20:]\n",
    "        if \"Technical Details\" in info:\n",
    "            index = info.find(\"Technical Details\")\n",
    "            info = info[:index] + info[index+18:]\n",
    "        if \"Additional Information\" in info:\n",
    "            index = info.find(\"Additional Information\")\n",
    "            info = info[:index] + info[index+23:]\n",
    "        if \"out of 5 stars\" in info:\n",
    "            indexa = info.find(\"Customer Reviews\")\n",
    "            matches = re.finditer(\"out of 5 stars\", info)\n",
    "            positions = [match.start() for match in matches]\n",
    "            indexb = positions[-1]\n",
    "            info = info[:indexa] + info[indexb+14:]\n",
    "        if \"Collapse All\" in info:\n",
    "            index = info.find(\"Collapse All\")\n",
    "            info = info[:index] + info[index+13:]\n",
    "        if \"Collapse all\" in info:\n",
    "            index = info.find(\"Collapse all\")\n",
    "            info = info[:index] + info[index+13:]\n",
    "        if \"Expand All\" in info:\n",
    "            index = info.find(\"Expand All\")\n",
    "            info = info[:index] + info[index+11:]\n",
    "        if \"Measurements\" in info:\n",
    "            index = info.find(\"Measurements\")\n",
    "            info = info[:index] + info[index+13:]\n",
    "        if \"Item details\" in info:\n",
    "            index = info.find(\"Item details\")\n",
    "            info = info[:index] + info[index+13:]\n",
    "        if \"Features & Specs\" in info:\n",
    "            index = info.find(\"Features & Specs\")\n",
    "            info = info[:index] + info[index+17:]\n",
    "        if \"User guide\" in info:\n",
    "            index = info.find(\"User guide\")\n",
    "            info = info[:index] + info[index+11:]\n",
    "        if \"          Style  \" in info:\n",
    "            index = info.find(\"          Style  \")\n",
    "            info = info[:index] + info[index+18:]\n",
    "        if \"Materials & Care\" in info:\n",
    "            index = info.find(\"Materials & Care\")\n",
    "            info = info[:index] + info[index+17:]\n",
    "        if \"Summary\" in info:\n",
    "            index = info.find(\"Summary\")\n",
    "            info = info[:index] + info[index+8:]\n",
    "        if \"Other Technical Details\" in info:\n",
    "            index = info.find(\"Other Technical Details\")\n",
    "            info = info[:index] + info[index+24:]\n",
    "        \n",
    "    info = info.strip()\n",
    "\n",
    "    raw_terms = info.split(\"   \")\n",
    "\n",
    "    while \"\" in raw_terms:\n",
    "        for term in raw_terms:\n",
    "            if term == \"\":\n",
    "                raw_terms.remove(term)\n",
    "\n",
    "    terms = [term.strip() for term in raw_terms]\n",
    "\n",
    "    product_info_categories = {}\n",
    "\n",
    "    indices = list(range(0, len(terms)-1, 2))\n",
    "\n",
    "    for i in indices:\n",
    "        if i % 2 == 0:\n",
    "            renamed_term = terms[i].replace(' ', '_')\n",
    "            product_info_categories[renamed_term] = terms[i+1]\n",
    "\n",
    "    product_info_cleaned.append(product_info_categories)\n",
    "\n",
    "print(len(product_info_cleaned))"
   ]
  },
  {
   "cell_type": "code",
   "execution_count": null,
   "id": "1b8e3619-ee72-432f-aaa6-045fc47bf4f6",
   "metadata": {},
   "outputs": [],
   "source": [
    "# create new column to hold cleaned product information\n",
    "\n",
    "product_data_all['Cleaned_Product_Information'] = np.array(product_info_cleaned)\n",
    "product_data_all.head()"
   ]
  },
  {
   "cell_type": "code",
   "execution_count": null,
   "id": "4b01b54f-2677-472d-9a68-c147dcf228bc",
   "metadata": {
    "scrolled": true
   },
   "outputs": [],
   "source": [
    "product_data_all[product_data_all['Cleaned_Product_Information'].isna()]"
   ]
  },
  {
   "cell_type": "markdown",
   "id": "62539c53-8da3-44a5-9ee8-d9f95c5959eb",
   "metadata": {},
   "source": [
    "### Identify product attributes"
   ]
  },
  {
   "cell_type": "code",
   "execution_count": null,
   "id": "bb784b91-96bb-47c4-ac52-75eeab6935c0",
   "metadata": {
    "scrolled": true
   },
   "outputs": [],
   "source": [
    "# identify unique product attributes in the product information\n",
    "\n",
    "unique_product_info_attributes = {}\n",
    "\n",
    "for product in product_info_cleaned:\n",
    "    if product != None:\n",
    "        for key, value in product.items():\n",
    "            if key not in unique_product_info_attributes:\n",
    "                unique_product_info_attributes[key] = 0\n",
    "            else:\n",
    "                unique_product_info_attributes[key] += 1\n",
    "\n",
    "unique_product_info_count = sorted(unique_product_info_attributes.items(), key=lambda item: item[1], reverse=True)\n",
    "\n",
    "print(f\"{len(unique_product_info_count)} unique product attributes\\n\")\n",
    "\n",
    "for key, value in unique_product_info_count:\n",
    "    print(f\"{key}: {value}\")"
   ]
  },
  {
   "cell_type": "code",
   "execution_count": null,
   "id": "fcb21955-0ee2-4593-a600-e0ee6c96220c",
   "metadata": {
    "scrolled": true
   },
   "outputs": [],
   "source": [
    "# create a new column for each unique attribute\n",
    "\n",
    "new_columns = {}\n",
    "\n",
    "for category in unique_product_info_attributes:\n",
    "    temp = []\n",
    "    \n",
    "    for i in range(len(product_data_all)):\n",
    "        product_info = product_data_all['Cleaned_Product_Information'].iloc[i]\n",
    "        if product_info is None or category not in product_info.keys():\n",
    "            temp.append(None)\n",
    "        else:\n",
    "            temp.append(product_info[category])\n",
    "\n",
    "    new_columns[category] = temp\n",
    "\n",
    "new_columns_df = pd.DataFrame(new_columns)\n",
    "\n",
    "product_data_all = product_data_all.reset_index(drop=True)\n",
    "new_columns_df = new_columns_df.reset_index(drop=True)\n",
    "\n",
    "product_data_all = pd.concat([product_data_all, new_columns_df], axis=1)\n",
    "product_data_all.drop(columns=['Product_Information', 'Cleaned_Product_Information'], inplace=True)\n",
    "\n",
    "product_data_all.head()"
   ]
  },
  {
   "cell_type": "code",
   "execution_count": null,
   "id": "beba093f-95e6-485d-96e6-e60d3f224f80",
   "metadata": {},
   "outputs": [],
   "source": [
    "product_data_all.shape"
   ]
  },
  {
   "cell_type": "code",
   "execution_count": null,
   "id": "3b3bd352-af93-47a9-a8a1-f0dd8975a1ba",
   "metadata": {},
   "outputs": [],
   "source": [
    "# drop duplicate products (each product should have a unqiue ASIN)\n",
    "\n",
    "product_data_all.dropna(subset=['ASIN'], inplace=True)\n",
    "product_data_all.drop_duplicates(subset=['ASIN'], keep='first', inplace=True)\n",
    "product_data_all = product_data_all.reset_index(drop=True)\n",
    "\n",
    "product_data_all.head()"
   ]
  },
  {
   "cell_type": "code",
   "execution_count": null,
   "id": "dee09673-f15e-4dab-b932-e54f7ec14dba",
   "metadata": {},
   "outputs": [],
   "source": [
    "product_data_all.shape"
   ]
  },
  {
   "cell_type": "code",
   "execution_count": null,
   "id": "e88c7f9f-4e2f-41a4-82f6-a121fa767589",
   "metadata": {},
   "outputs": [],
   "source": [
    "# delete attributes that appear infrequently\n",
    "\n",
    "attributes_to_delete = []\n",
    "\n",
    "for i in range(product_data_all.shape[1]):\n",
    "    if product_data_all.iloc[:, i].count() < 100:\n",
    "        attributes_to_delete.append(product_data_all.columns[i])\n",
    "\n",
    "product_data_all.drop(columns=attributes_to_delete, inplace=True)\n",
    "\n",
    "product_data_all.shape"
   ]
  },
  {
   "cell_type": "code",
   "execution_count": null,
   "id": "1ff5389d-04f9-4ba1-b462-7e17089c8391",
   "metadata": {},
   "outputs": [],
   "source": [
    "# sometimes, a forward slash '/' is used to denote a missing attribute, so we remove them here\n",
    "\n",
    "for i in range(len(product_data_all)):\n",
    "    for j in range(product_data_all.shape[1]):\n",
    "        if product_data_all.iloc[i, j] == '/':\n",
    "            product_data_all.iloc[i, j] = None"
   ]
  },
  {
   "cell_type": "markdown",
   "id": "20c2418d-f087-480f-a59f-63f883747b9e",
   "metadata": {},
   "source": [
    "### Clean up original columns"
   ]
  },
  {
   "cell_type": "code",
   "execution_count": null,
   "id": "f8aebca4-3ee2-43c0-bb85-69c15390adcf",
   "metadata": {},
   "outputs": [],
   "source": [
    "# clean up Rating, Number_of_Ratings, Monthly_Purchases, and Price\n",
    "\n",
    "for i in range(len(product_data_all)):\n",
    "    if type(product_data_all['Rating'][i]) == str and \" out of 5 stars\" in product_data_all['Rating'][i]:\n",
    "        index = product_data_all['Rating'][i].find(\" out of 5 stars\")\n",
    "        product_data_all['Rating'][i] = product_data_all['Rating'][i][:index]\n",
    "    else:\n",
    "        product_data_all['Rating'][i] = None\n",
    "        \n",
    "    if type(product_data_all['Number_of_Ratings'][i]) == str and \" r\" in product_data_all['Number_of_Ratings'][i]:\n",
    "        index = product_data_all['Number_of_Ratings'][i].find(\" r\")\n",
    "        product_data_all['Number_of_Ratings'][i] = product_data_all['Number_of_Ratings'][i][:index]\n",
    "    if type(product_data_all['Number_of_Ratings'][i]) == str and \",\" in product_data_all['Number_of_Ratings'][i]:\n",
    "        while \",\" in product_data_all['Number_of_Ratings'][i]:\n",
    "            index = product_data_all['Number_of_Ratings'][i].find(\",\")\n",
    "            product_data_all['Number_of_Ratings'][i] = product_data_all['Number_of_Ratings'][i][:index] + product_data_all['Number_of_Ratings'][i][index+1:]\n",
    "        \n",
    "    if type(product_data_all['Monthly_Purchases'][i]) == str and \"+ bought in past month\" in product_data_all['Monthly_Purchases'][i]:\n",
    "        product_data_all['Monthly_Purchases'][i] = product_data_all['Monthly_Purchases'][i][:-22]\n",
    "    if type(product_data_all['Monthly_Purchases'][i]) == str and \"K\" in product_data_all['Monthly_Purchases'][i]:\n",
    "        product_data_all['Monthly_Purchases'][i] = int(product_data_all['Monthly_Purchases'][i][:-1]) * 1000\n",
    "    \n",
    "    if type(product_data_all['Price'][i]) == str and \"$\" in product_data_all['Price'][i] and \"/\" not in product_data_all['Price'][i]:\n",
    "        while \",\" in product_data_all['Price'][i]:\n",
    "            index = product_data_all['Price'][i].find(\",\")\n",
    "            product_data_all['Price'][i] = product_data_all['Price'][i][:index] + product_data_all['Price'][i][index+1:]\n",
    "        while \"$\" in product_data_all['Price'][i]:\n",
    "            index = product_data_all['Price'][i].find(\"$\")\n",
    "            product_data_all['Price'][i] = product_data_all['Price'][i][index+1:]\n",
    "        product_data_all['Price'][i] = product_data_all['Price'][i][1:]\n",
    "    else:\n",
    "        product_data_all['Price'][i] = None\n",
    "\n",
    "product_data_all.head()"
   ]
  },
  {
   "cell_type": "code",
   "execution_count": null,
   "id": "fa9eb029-6064-4b7e-ac2e-d84b7917f2e3",
   "metadata": {},
   "outputs": [],
   "source": [
    "# convert columns into desired data types\n",
    "\n",
    "for i in range(len(product_data_all)):\n",
    "    if not pd.isnull(product_data_all['Rating'][i]):\n",
    "        product_data_all['Rating'][i] = float(product_data_all['Rating'][i])\n",
    "\n",
    "for i in range(len(product_data_all)):\n",
    "    if not pd.isnull(product_data_all['Number_of_Ratings'][i]):\n",
    "        product_data_all['Number_of_Ratings'][i] = int(product_data_all['Number_of_Ratings'][i])\n",
    "\n",
    "for i in range(len(product_data_all)):\n",
    "    if not pd.isnull(product_data_all['Monthly_Purchases'][i]):\n",
    "        product_data_all['Monthly_Purchases'][i] = int(product_data_all['Monthly_Purchases'][i])\n",
    "\n",
    "for i in range(len(product_data_all)):\n",
    "    if not pd.isnull(product_data_all['Price'][i]):\n",
    "        product_data_all['Price'][i] = float(product_data_all['Price'][i])"
   ]
  },
  {
   "cell_type": "code",
   "execution_count": null,
   "id": "635579bf-fa5b-4cc7-9622-d06002a3c0e8",
   "metadata": {},
   "outputs": [],
   "source": [
    "# download and reload the changes you've made so far, makes debugging easier\n",
    "\n",
    "product_data_all.to_csv('name of 1st csv', index=False)"
   ]
  },
  {
   "cell_type": "markdown",
   "id": "9f0ba909-d3a0-4cc5-a265-bb4ca912e1c0",
   "metadata": {},
   "source": [
    "### Clean up attributes"
   ]
  },
  {
   "cell_type": "markdown",
   "id": "120627ae-e595-4bcf-a232-16af496ee150",
   "metadata": {},
   "source": [
    "#### Take care of repeated information"
   ]
  },
  {
   "cell_type": "code",
   "execution_count": null,
   "id": "fadd3ff7-cee4-48bf-aaca-ea553e464aa0",
   "metadata": {},
   "outputs": [],
   "source": [
    "product_data_all = pd.read_csv('path to 1st csv', low_memory=False)\n",
    "product_data_all.head()"
   ]
  },
  {
   "cell_type": "code",
   "execution_count": null,
   "id": "73a1595b-fd52-4690-8bce-814143a8241b",
   "metadata": {},
   "outputs": [],
   "source": [
    "# these attributes are to be deleted because they either have the same information as other attributes or will be combined with other attributes\n",
    "\n",
    "unwanted_attributes = ['Size', 'Sheet_Size', 'Special_Features', 'Item_Package_Dimensions_L_x_W_x_H', 'Brand_Name', 'Material_Type', 'Product_Dimensions', \n",
    "                       'Item_Dimensions_D_x_W_x_H', 'Item_dimensions_L_x_W_x_H', 'Part_Number', 'Finish', 'Finish_types', 'Furniture_Finish',\n",
    "                       'Batteries_required', 'Number_of_pieces', 'Number_Of_Pieces', 'Shade_Material', 'Top_Material_Type', 'Base_Material', 'Fabric_Type', \n",
    "                       'Cover_Material', 'Fill_Material', 'Handle_Material', 'Blade_Material', 'Outer_Material', 'Shade_Color', 'Ink_Color', 'Light_Color', \n",
    "                       'Specific_Uses_For_Product']"
   ]
  },
  {
   "cell_type": "code",
   "execution_count": null,
   "id": "1d844a8b-64d0-41ea-a065-2aab0845f5ca",
   "metadata": {},
   "outputs": [],
   "source": [
    "# if multiple attributes have the same type of info, consolidate(a, b) transfers all the info to one of the attributes\n",
    "def consolidate(a, b):\n",
    "    for i in range(len(product_data_all)):\n",
    "        if pd.isnull(product_data_all.loc[i, a]) and not pd.isnull(product_data_all.loc[i, b]):\n",
    "            product_data_all.loc[i, a] = product_data_all.loc[i, b]\n",
    "\n",
    "# combine(a, b) concatenates the info of string attributes with the same type of info\n",
    "def combine(a, b):\n",
    "    for i in range(len(product_data_all)):\n",
    "        if not pd.isnull(product_data_all.loc[i, a]) and not pd.isnull(product_data_all.loc[i, b]) and product_data_all.loc[i, a] != product_data_all.loc[i, b]:\n",
    "            a_ = product_data_all.loc[i, a]\n",
    "            b_ = product_data_all.loc[i, b]\n",
    "            product_data_all.loc[i, a] = a_ + \", \" + b_"
   ]
  },
  {
   "cell_type": "code",
   "execution_count": null,
   "id": "619d5d71-52aa-4a98-bbce-3a336c2c54ff",
   "metadata": {},
   "outputs": [],
   "source": [
    "# consolidate attributes with repeat information\n",
    "\n",
    "consolidate('Special_Feature', 'Special_Features')\n",
    "consolidate('Package_Dimensions', 'Item_Package_Dimensions_L_x_W_x_H')\n",
    "consolidate('Brand', 'Brand_Name')\n",
    "consolidate('Material', 'Material_Type')\n",
    "consolidate('Item_Dimensions__LxWxH', 'Product_Dimensions')\n",
    "consolidate('Item_Dimensions__LxWxH', 'Item_Dimensions_D_x_W_x_H')\n",
    "consolidate('Item_Dimensions__LxWxH', 'Item_dimensions_L_x_W_x_H')\n",
    "consolidate('Manufacturer_Part_Number', 'Part_Number')\n",
    "consolidate('Finish_Type', 'Finish')\n",
    "consolidate('Finish_Type', 'Finish_types')\n",
    "consolidate('Finish_Type', 'Furniture_Finish')\n",
    "consolidate('Batteries_Required?', 'Batteries_required')\n",
    "consolidate('Number_of_Pieces', 'Number_of_pieces')\n",
    "consolidate('Number_of_Pieces', 'Number_Of_Pieces')"
   ]
  },
  {
   "cell_type": "code",
   "execution_count": null,
   "id": "cab05d1f-fd07-4320-ac8d-026a396764f6",
   "metadata": {},
   "outputs": [],
   "source": [
    "# combine attributes with same type of information\n",
    "\n",
    "combine('Material', 'Shade_Material')\n",
    "combine('Material', 'Top_Material_Type')\n",
    "combine('Material', 'Base_Material')\n",
    "combine('Material', 'Fabric_Type')\n",
    "combine('Material', 'Cover_Material')\n",
    "combine('Material', 'Fill_Material')\n",
    "combine('Material', 'Handle_Material')\n",
    "combine('Material', 'Blade_Material')\n",
    "combine('Material', 'Outer_Material')\n",
    "combine('Color', 'Shade_Color')\n",
    "combine('Color', 'Ink_Color')\n",
    "combine('Color', 'Light_Color')\n",
    "combine('Recommended_Uses_For_Product', 'Specific_Uses_For_Product')"
   ]
  },
  {
   "cell_type": "code",
   "execution_count": null,
   "id": "2baf3727-4ad1-460f-af11-e7f18e62a085",
   "metadata": {},
   "outputs": [],
   "source": [
    "product_data_all.drop(columns=unwanted_attributes, inplace=True)"
   ]
  },
  {
   "cell_type": "code",
   "execution_count": null,
   "id": "b862d0a8-b339-4274-8435-e6d8b137f024",
   "metadata": {
    "scrolled": true
   },
   "outputs": [],
   "source": [
    "# rank attributes by frequency\n",
    "\n",
    "frequencies = {}\n",
    "\n",
    "for column in product_data_all.columns:\n",
    "    frequencies[column] = product_data_all[column].notna().sum()\n",
    "\n",
    "sorted_frequencies = sorted(frequencies.items(), key=lambda item: item[1], reverse=True)[:50]\n",
    "\n",
    "top_50_attributes = []\n",
    "\n",
    "for key, value in sorted_frequencies:\n",
    "    top_50_attributes.append(key)\n",
    "    print(f\"{key}: {value}\")"
   ]
  },
  {
   "cell_type": "code",
   "execution_count": null,
   "id": "31bd8c84-5be3-407d-b6d7-08f88a3cc502",
   "metadata": {
    "scrolled": true
   },
   "outputs": [],
   "source": [
    "# only keep the top 50 most frequent attributes\n",
    "\n",
    "outside_top_50 = [column for column in product_data_all.columns if column not in top_50_attributes]\n",
    "\n",
    "product_data_all.drop(columns=outside_top_50, inplace=True)\n",
    "product_data_all.shape"
   ]
  },
  {
   "cell_type": "code",
   "execution_count": null,
   "id": "28f31e5a-40be-47b8-932e-29a5158bff6e",
   "metadata": {},
   "outputs": [],
   "source": [
    "# convert the following columns to desired data types\n",
    "\n",
    "convert_to_int64 = ['Number_of_Ratings', 'Monthly_Purchases', 'Number_of_Items', 'Number_of_Pieces']\n",
    "\n",
    "for column in convert_to_int64:\n",
    "    product_data_all[column] = product_data_all[column].astype('Int64')\n",
    "\n",
    "product_data_all.rename(columns={'Item_Dimensions__LxWxH': 'Item_Dimensions'}, inplace=True) # rename columns with weird names"
   ]
  },
  {
   "cell_type": "code",
   "execution_count": null,
   "id": "12101eca-2f62-442c-9cd9-5c9b106c0aa9",
   "metadata": {},
   "outputs": [],
   "source": [
    "# again, download and reload the changes you've made so far, makes debugging easier\n",
    "\n",
    "product_data_all.to_csv('name of 2nd csv', index=False)"
   ]
  },
  {
   "cell_type": "markdown",
   "id": "477d339f-1082-43f9-95bb-dba01391a0bb",
   "metadata": {},
   "source": [
    "#### Modify data formats"
   ]
  },
  {
   "cell_type": "code",
   "execution_count": null,
   "id": "137e13bf-06ee-489b-b830-ed7e5646c309",
   "metadata": {},
   "outputs": [],
   "source": [
    "product_data_all = pd.read_csv('path to 2nd csv', low_memory=False)\n",
    "product_data_all.head()"
   ]
  },
  {
   "cell_type": "code",
   "execution_count": null,
   "id": "dff0013a-afac-49e6-abcb-3ad7e722fdbe",
   "metadata": {},
   "outputs": [],
   "source": [
    "# separate values and units\n",
    "def value_unit_split(attribute, default_unit=None):\n",
    "    values = []\n",
    "    units = []\n",
    "    index = product_data_all.columns.get_loc(attribute)\n",
    "\n",
    "    for i in range(len(product_data_all)):\n",
    "        if not pd.isnull(product_data_all.loc[i, attribute]):\n",
    "            split = product_data_all.loc[i, attribute].split(' ', maxsplit=1)\n",
    "            if len(split) == 2:\n",
    "                values.append(split[0])\n",
    "                units.append(split[1])\n",
    "            elif len(split) == 1: \n",
    "                if default_unit == None:\n",
    "                    values.append(None)\n",
    "                    units.append(None)\n",
    "                else:\n",
    "                    values.append(split[0])\n",
    "                    units.append(default_unit)\n",
    "        else:\n",
    "            values.append(None)\n",
    "            units.append(None)\n",
    "\n",
    "    # create new columns for values and units\n",
    "    product_data_all.insert(index+1, f'{attribute}_Value', values)\n",
    "    product_data_all.insert(index+2, f'{attribute}_Unit', units)\n",
    "\n",
    "# separate values and units for multidimensional attributes\n",
    "def dimension_split(attribute):\n",
    "    dim_length = []\n",
    "    dim_width = []\n",
    "    dim_height = []\n",
    "    dim_units = []\n",
    "    index = product_data_all.columns.get_loc(attribute)\n",
    "\n",
    "    for i in range(len(product_data_all)):\n",
    "        if not pd.isnull(product_data_all.loc[i, attribute]):\n",
    "            if '\"' in product_data_all.loc[i, attribute]: # \" means inches\n",
    "                x = re.sub(r'[a-z]|\"', '', product_data_all.loc[i, attribute])\n",
    "                split = re.findall(r'[\\d.]+|[A-Z]+', x)\n",
    "                \n",
    "                length = None\n",
    "                width = None\n",
    "                height = None\n",
    "                \n",
    "                for s in range(len(split)):\n",
    "                    if split[s] == 'L' or split[s] == 'D':\n",
    "                        length = split[s-1]\n",
    "                    if split[s] == 'W':\n",
    "                        width = split[s-1]\n",
    "                    if split[s] == 'H' or split[s] == 'T':\n",
    "                        height = split[s-1]\n",
    "                \n",
    "                dim_length.append(length)\n",
    "                dim_width.append(width)\n",
    "                dim_height.append(height)\n",
    "                dim_units.append('inches')\n",
    "            \n",
    "            else: \n",
    "                split = re.findall(r'[\\d.]+|[a-zA-Z]+', product_data_all.loc[i, attribute])\n",
    "                \n",
    "                dim_length.append(split[0])\n",
    "                \n",
    "                if len(split) >= 4:\n",
    "                    dim_width.append(split[2])\n",
    "                else:\n",
    "                    dim_width.append(None)\n",
    "                \n",
    "                if len(split) >= 6:\n",
    "                    dim_height.append(split[4])\n",
    "                else:\n",
    "                    dim_height.append(None)\n",
    "                \n",
    "                dim_units.append(split[-1])     \n",
    "        \n",
    "        else:\n",
    "            dim_length.append(None)\n",
    "            dim_width.append(None)\n",
    "            dim_height.append(None)\n",
    "            dim_units.append(None)\n",
    "\n",
    "    # create new columns for values and units\n",
    "    product_data_all.insert(index+1, f'{attribute}_Length', dim_length)\n",
    "    product_data_all.insert(index+2, f'{attribute}_Width', dim_width)\n",
    "    product_data_all.insert(index+3, f'{attribute}_Height', dim_height)\n",
    "    product_data_all.insert(index+4, f'{attribute}_Units', dim_units)\n",
    "\n",
    "# split strings on specified delimiters\n",
    "def delim_split(attribute, to_remove=[None]):\n",
    "    phrases = set()\n",
    "\n",
    "    for i in range(len(product_data_all)):\n",
    "        if not pd.isnull(product_data_all.loc[i, attribute]):\n",
    "            split = re.split(r'\\s*[,，、;\\|/]\\s*', product_data_all.loc[i, attribute])\n",
    "            cleaned_split = [s for s in split if any(char.isalnum() for char in s) and not (s.replace(' ', '').isdigit() or (('(' in s and ')' not in s) or ('(' not in s and ')' in s)))]\n",
    "            for phrase in cleaned_split:\n",
    "                phrases.add(phrase.strip().lower())\n",
    "\n",
    "    enum_df = pd.DataFrame({attribute: list(phrases)})\n",
    "    enum_df = enum_df[~enum_df[attribute].isin(to_remove)] # remove meaningless rows\n",
    "    enum_df = enum_df.reset_index(drop=True)\n",
    "    enum_df.insert(0, 'id', list(range(1, len(enum_df)+1))) # create ids\n",
    "    \n",
    "    return enum_df\n",
    "\n",
    "# enumerate attributes if needed\n",
    "def enum_attr(attribute, enum_df):\n",
    "    new_column = []\n",
    "\n",
    "    for i in range(len(product_data_all)):\n",
    "        if not pd.isnull(product_data_all.loc[i, attribute]):\n",
    "            ids = set()\n",
    "            split = re.split(r'\\s*[,，、;\\|/]\\s*', product_data_all.loc[i, attribute].lower())\n",
    "            for j in range(len(enum_df)):\n",
    "                for s in split:\n",
    "                    if enum_df.loc[j, attribute] in s:\n",
    "                        ids.add(enum_df.loc[j, 'id'])\n",
    "            if len(ids) == 0:\n",
    "                new_column.append(None)\n",
    "            else:\n",
    "                new_column.append(ids)\n",
    "        else:\n",
    "            new_column.append(None)\n",
    "\n",
    "    return new_column"
   ]
  },
  {
   "cell_type": "code",
   "execution_count": null,
   "id": "fc5889f7-8ed7-4304-9a03-0ca0f7bdb709",
   "metadata": {
    "scrolled": true
   },
   "outputs": [],
   "source": [
    "# Item_Weight \n",
    "\n",
    "value_unit_split('Item_Weight')\n",
    "\n",
    "index = product_data_all.columns.get_loc('Item_Weight')\n",
    "\n",
    "for i in range(len(product_data_all)):\n",
    "    if not pd.isnull(product_data_all.loc[i, 'Item_Weight']):\n",
    "        print(product_data_all.iloc[i, index:index+3])"
   ]
  },
  {
   "cell_type": "code",
   "execution_count": null,
   "id": "aaf74f8d-f06a-4d45-a092-1064e547d95f",
   "metadata": {
    "scrolled": true
   },
   "outputs": [],
   "source": [
    "# Item_Dimensions\n",
    "\n",
    "dimension_split('Item_Dimensions')\n",
    "\n",
    "index = product_data_all.columns.get_loc('Item_Dimensions')\n",
    "\n",
    "for i in range(len(product_data_all)):\n",
    "    if not pd.isnull(product_data_all.loc[i, 'Item_Dimensions']):\n",
    "        print(product_data_all.iloc[i, index:index+5])"
   ]
  },
  {
   "cell_type": "code",
   "execution_count": null,
   "id": "324a2e0c-71a4-4425-8571-4ee21cf9540a",
   "metadata": {
    "scrolled": true
   },
   "outputs": [],
   "source": [
    "# Color \n",
    "\n",
    "pattern = ['multicolor', \n",
    "           'black', 'light.*black', 'dark.*black', 'clear.*black', 'matte.*black', 'crystal.*black', 'bordeaux.*black', 'gloss.*black', 'charcoal.*black', 'lavastone.*black', 'bulk.*black',\n",
    "                'midnight.*black', 'classic.*black', 'cream.*black', 'new.*black', 'pure.*black', 'gloss.*black',\n",
    "           'white', 'light.*white', 'clear.*white', 'matte.*white', 'neutral.*white', 'snow.*white', 'cream.*white', 'gloss.*white', 'cold.*white', 'cool.*white', 'royal.*white',\n",
    "                'natural.*white', 'granite.*white',  'flat.*white', 'vintage.*white', 'forest.*white', 'smart.*white', 'frosted.*white', 'warm.*white', 'studio.*white', 'navy.*white',\n",
    "                'medium.*white', 'new.*white', 'cardinal.*white', 'classic.*white', 'off.*white', 'pure.*white', 'distressed.*white', 'milky.*white', 'weathered.*white', 'stripe.*white',\n",
    "           'gr[ae]y', 'light.*gr[ae]y', 'matte.*gr[ae]y',  'charcoal.*gr[ae]y', 'dark.*gr[ae]y', 'earthy.*gr[ae]y', 'sea.*salt.*gr[ae]y', 'oyster.*gr[ae]y', 'elegant.*gr[ae]y', \n",
    "                'dove.*gr[ae]y', 'slate.*gr[ae]y', 'gun.*gr[ae]y', 'tweed.*gr[ae]y', 'modern.*gr[ae]y', 'antique.*gr[ae]y','stylish.*gr[ae]y', 'fog.*gr[ae]y', 'stainless.*steel.*gr[ae]y',\n",
    "                'space.*gr[ae]y', 'plush.*gr[ae]y', \n",
    "           'brown', 'light.*brown', 'matte.*brown', 'rustic.*brown', 'vintage.*brown', 'deep.*brown', 'berry.*brown', 'vintage.*brown', 'brushed.*brown', 'teak.*brown', 'whiskey.*brown',\n",
    "                'dark.*brown', 'retro.*brown', 'speckled.*brown', 'craft.*brown', 'stainless.*brown', \n",
    "           'red', 'light.*red', 'matte.*red', 'empire.*red', 'transparent.*red.', 'rose.*red', 'dark.*red', 'fire.*engine.*red', 'wine.*red',\n",
    "           'orange', 'light.*orange', 'matte.*orange', 'fluorescent.*orange', 'burnt.*orange', 'autumn.*orange',\n",
    "           'yellow', 'light.*yellow', 'matte.*yellow', 'vibrant.*yellow', 'warm.*yellow', 'optic.*yellow', 'canary.*yellow', \n",
    "           'green', 'light.*green', 'matte.*green', 'forest.*green', 'off.*green', 'luscious.*green', 'pastel.*green', 'grass.*green', 'matcha.*green', 'mint.*green', 'olive.*green', \n",
    "                'dark.*green', 'navy.*green', 'natural.*green', 'neon.*green', 'avacado.*green', 'apple.*green', 'army.*green',\n",
    "           'blue', 'light.*blue', 'matte.*blue', 'classic.*blue', 'midnight.*blue', 'marine.*blue', 'royal.*blue', 'arctic.*blue', 'baby.*blue', 'adriatic.*blue', 'starry.*blue',\n",
    "                'bright.*blue', 'neon.*blue', 'nav.*blue', 'cobalt.*blue', 'columbia.*blue', 'coastal.*blue', 'lake.*blue', 'tranquil.*blue', 'slate.*blue', 'pacific.*blue',\n",
    "                'venom.*blue', 'dark.*blue', 'new.*blue', 'sky.*blue', 'ocean.*blue', 'pure.*blue', \n",
    "           'purple', 'light.*purple', 'dark.*purple', 'charming.*purple', 'translucent.*purple', 'deep.*purple',\n",
    "           'pink', 'light.*pink', 'apricot.*pink', 'pretty.*pink', 'dusty.*pink', 'matte.*pink', 'velvet.*pink', 'neon.*pink', 'bright.*pink', 'pastel.*pink', 'hot.*pink', 'rosy.*pink',\n",
    "           'gold', 'light.*gold', 'rose.*gold', 'vegas.*gold', 'champaign.*gold', 'white.*gold', 'holographic.*gold.',\n",
    "           'silver', 'light.*silver',  'vintage.*silver', 'ancient.*silver', 'metallic.*silver', 'star.*silver', 'premium.*silver', 'daylight.*silver', 'matte.*silver', 'crystal.*silver',\n",
    "                'cloud.*silver',\n",
    "           'nickel', 'brush.*nickel', 'sand.*nickel', 'matte.*nickel', 'beige', 'light.*beige', 'washed.*beige', 'cream.*beige', 'cherry', 'light.*cherry',\n",
    "           'wood',  'rustic.*wood', 'burlywood', 'driftwood', 'barnwood', 'flatwood', 'wood.*grain', 'natural.*wood', 'cherry.*wood', 'red.*wood', 'dark.*wood', \n",
    "           'pistachio', 'sunflower', 'lime', 'electric lime', 'marble', 'white.*marble', 'gr[ae]y.*marble', 'black.*marble', 'gold.*marble', 'pink.*marble', \n",
    "           'onyx', 'oat', 'light.*oat', 'tropical', 'burgundy', 'neon', 'mahogany', 'rose', 'dusty rose', 'morandi', 'quartz', 'teal', 'charcoal',\n",
    "           'watercolour', 'violet', 'maroon', 'sugar', 'snow', 'honey', 'vintage.*indigo', 'rainbow', 'celeste', 'macaron', 'metallic', 'alabaster', 'frosted.*alabaster',\n",
    "           'boho', 'chic', 'champagne.*bronze', 'noble.*bronze', 'premier.*bronze', 'old.*bronze', 'aged.*bronze', 'vibrant', 'camel', 'tan', 'scarlet', 'matte.*scarlet', 'citrus',\n",
    "           'cream', 'lemon', 'tangerine', 'garden', 'light.*garden', 'secret.*garden', 'cement', 'peach', 'coastal', 'chrome', 'hot', 'titanium', 'antique.*pewter', 'turquoise',\n",
    "           'sandstone', 'cyan', 'black.*oak', 'forest', 'raspberry', 'greige', 'royal', 'velvet', 'blueberry', 'mud', 'anvil.*iron', 'indigo', 'gloss.*navy', \n",
    "           'espresso', 'copper', 'mojo', 'smoked.*iron', 'emerald', 'amber', 'ivory', 'azure', 'tiger', 'cheetah', 'passion.*maroon',\n",
    "           'smoke', 'coral', 'day.*light', 'peacock', 'pastel', 'mountain.*haze', 'flaxen', 'cotton.*candy', 'terrazzo', 'jewel', 'tumbleweed',\n",
    "           'clover', 'lavender', 'floral', 'transparent', 'white.*sand', 'blue.*lightning', 'flower', 'eucalyptus', 'navy', 'wild.*berry', 'leopard', 'marigold',\n",
    "           'blush', 'khaki', 'crystal', 'elegant', 'coffee.*haze', 'polished.*brass',\n",
    "           'sage', 'manilla', 'mocha', 'strawberry', 'pearl', 'neutral', 'blonde', 'acacia', 'camo', 'ocean', 'cardinal', 'aqua', 'gradient', 'natural', 'brass', 'space',\n",
    "           'walnut', 'white.*walnut', 'dark.*walnut', 'american.*walnut', 'columbia.*walnut']\n",
    "\n",
    "color = ['multicolor', \n",
    "           'black', 'light black', 'dark black', 'clear black', 'matte black', 'crystal black', 'bordeaux black', 'gloss black', 'charcoal black', 'lavastone black', 'bulk black',\n",
    "                'midnight black', 'classic black', 'cream black', 'new black', 'pure black', 'gloss black',\n",
    "           'white', 'light white', 'clear white', 'matte white', 'neutral white', 'snow white', 'creamy white', 'gloss white', 'cold white', 'cool white', 'royal white',\n",
    "                'natural white', 'granite white',  'flat white', 'vintage white', 'forest white', 'smart white', 'frosted white', 'warm white', 'studio white', 'navy white',\n",
    "                'medium white', 'new white', 'cardinal white', 'classic white', 'off white', 'pure white', 'distressed white', 'milky white', 'weathered white', 'stripe white',\n",
    "           'gray', 'light gray', 'matte gray',  'charcoal gray', 'dark gray', 'earthy gray', 'sea salt gray', 'oyster gray', 'elegant gray', \n",
    "                'dove gray', 'slate gray', 'gun gray', 'tweed gray', 'modern gray', 'antique gray','stylish gray', 'fog gray', 'stainless steel gray',\n",
    "                'space gray', 'plush gray', \n",
    "           'brown', 'light brown', 'matte brown', 'rustic brown', 'vintage brown', 'deep brown', 'berry brown', 'vintage brown', 'brushed brown', 'teak brown', 'whiskey brown',\n",
    "                'dark brown', 'retro brown', 'speckled brown', 'craft brown', 'stainless brown', \n",
    "           'red', 'light red', 'matte red', 'empire red', 'transparent red.', 'rose red', 'dark red', 'fire engine red', 'wine red',\n",
    "           'orange', 'light orange', 'matte orange', 'fluorescent orange', 'burnt orange', 'autumn orange',\n",
    "           'yellow', 'light yellow', 'matte yellow', 'vibrant yellow', 'warm yellow', 'optic yellow', 'canary yellow', \n",
    "           'green', 'light green', 'matte green', 'forest green', 'off green', 'luscious green', 'pastel green', 'grass green', 'matcha green', 'mint green', 'olive green', \n",
    "                'dark green', 'navy green', 'natural green', 'neon green', 'avacado green', 'apple green', 'army green',\n",
    "           'blue', 'light blue', 'matte blue', 'classic blue', 'midnight blue', 'marine blue', 'royal blue', 'arctic blue', 'baby blue', 'adriatic blue', 'starry blue',\n",
    "                'bright blue', 'neon blue', 'navy blue', 'cobalt blue', 'columbia blue', 'coastal blue', 'lake blue', 'tranquil blue', 'slate blue', 'pacific blue',\n",
    "                'venom blue', 'dark blue', 'new blue', 'sky blue', 'ocean blue', 'pure blue', \n",
    "           'purple', 'light purple', 'dark purple', 'charming purple', 'translucent purple', 'deep purple',\n",
    "           'pink', 'light pink', 'apricot pink', 'pretty pink', 'dusty pink', 'matte pink', 'velvet pink', 'neon pink', 'bright pink', 'pastel pink', 'hot pink', 'rosy pink',\n",
    "           'gold', 'light gold', 'rose gold', 'vegas gold', 'champaign gold', 'white gold', 'holographic gold.',\n",
    "           'silver', 'light silver', 'vintage silver', 'ancient silver', 'metallic silver', 'star silver', 'premium silver', 'daylight silver', 'matte silver', 'crystal silver',\n",
    "                'cloud silver',\n",
    "           'nickel', 'brush nickel', 'sand nickel', 'matte nickel', 'beige', 'light beige', 'washed beige', 'cream beige', 'cherry', 'light cherry',\n",
    "           'wood',  'rustic wood', 'burlywood', 'driftwood', 'barnwood', 'flatwood', 'wood grain', 'natural wood', 'cherry wood', 'redwood', 'dark wood', \n",
    "           'pistachio', 'sunflower', 'lime', 'electric lime', 'marble', 'white marble', 'gray marble', 'black marble', 'gold marble', 'pink marble', \n",
    "           'onyx', 'oat', 'light oat', 'tropical', 'burgundy', 'neon', 'mahogany', 'rose', 'dusty rose', 'morandi', 'quartz', 'teal', 'charcoal',\n",
    "           'watercolour', 'violet', 'maroon', 'sugar', 'snow', 'honey', 'vintage indigo', 'rainbow', 'celeste', 'macaron', 'metallic', 'alabaster', 'frosted alabaster',\n",
    "           'boho', 'chic', 'champagne bronze', 'noble bronze', 'premier bronze', 'old bronze', 'aged bronze','vibrant', 'camel', 'tan', 'scarlet', 'matte scarlet', 'citrus',\n",
    "           'cream', 'lemon', 'tangerine', 'garden', 'light garden', 'secret garden', 'cement', 'peach', 'coastal', 'chrome', 'hot', 'titanium', 'antique pewter', 'turquoise',\n",
    "           'sandstone', 'cyan', 'black oak', 'forest', 'raspberry', 'greige', 'royal', 'velvet', 'blueberry', 'mud', 'anvil iron', 'indigo', 'gloss navy', \n",
    "           'espresso', 'copper', 'mojo', 'smoked iron', 'emerald', 'amber', 'ivory', 'azure', 'tiger', 'cheetah', 'passion maroon',\n",
    "           'smoke', 'coral', 'daylight', 'peacock', 'pastel', 'mountain haze', 'flaxen', 'cotton candy', 'terrazzo', 'jewel', 'tumbleweed',\n",
    "           'clover', 'lavender', 'floral', 'transparent', 'white sand', 'blue lightning', 'flower', 'eucalyptus', 'navy', 'wild berry', 'leopard', 'marigold',\n",
    "           'blush', 'khaki', 'crystal', 'elegant', 'coffee haze', 'polished brass',\n",
    "           'sage', 'manilla', 'mocha', 'strawberry', 'pearl', 'neutral', 'blonde', 'acacia', 'camo', 'ocean', 'cardinal', 'aqua', 'gradient', 'natural', 'brass', 'space',\n",
    "           'walnut', 'white walnut', 'dark walnut', 'american walnut', 'columbia walnut']\n",
    "\n",
    "color_enum = pd.DataFrame({'id': list(range(1, len(color)+1)), 'pattern': pattern, 'Color': color})\n",
    "\n",
    "color_new = []\n",
    "\n",
    "for i in range(len(product_data_all)):\n",
    "    if not pd.isnull(product_data_all.loc[i, 'Color']): \n",
    "        ids = set()\n",
    "        split = re.split(r'\\s*[,，、+;\\|/]\\s*', product_data_all.loc[i, 'Color'].lower())\n",
    "        for j in range(len(color_enum)):\n",
    "            for s in split:\n",
    "                if 'assort' in s or 'variety' in s or 'multi' in s or 'mix' in s or 'adjustable' in s:\n",
    "                    ids.add(1)\n",
    "                if bool(re.search(color_enum.loc[j, 'pattern'], s)):\n",
    "                    ids.add(color_enum.loc[j, 'id'])\n",
    "        if len(ids) == 0:\n",
    "            color_new.append(None)\n",
    "        else:\n",
    "            color_new.append(ids)\n",
    "    else:\n",
    "        color_new.append(None)\n",
    "\n",
    "color_enum.drop(columns='pattern', inplace=True)\n",
    "color_enum.to_csv('/Users/fei/Desktop/Mixer/Color_enum.csv', index=False)\n",
    "\n",
    "product_data_all['Color'] = color_new\n",
    "\n",
    "for i in range(len(product_data_all)):\n",
    "    if not pd.isnull(product_data_all.loc[i, 'Color']):\n",
    "        print(product_data_all.loc[i, 'Color'])"
   ]
  },
  {
   "cell_type": "code",
   "execution_count": null,
   "id": "f1f8eebe-9f7c-4860-ba64-88d02a3a52dd",
   "metadata": {
    "scrolled": true
   },
   "outputs": [],
   "source": [
    "# Style \n",
    "\n",
    "redundant = ['no', '2 - 7 1', 'm', '-11', '4 - 6 7', '8 - 7 1', '8\" - 7 1']\n",
    "\n",
    "style_enum = delim_split('Style', redundant)\n",
    "\n",
    "product_data_all['Style'] = enum_attr('Style', style_enum)\n",
    "\n",
    "style_enum.to_csv('/Users/fei/Desktop/Mixer/Style_enum.csv', index=False)\n",
    "\n",
    "for i in range(len(product_data_all)):\n",
    "    if not pd.isnull(product_data_all.loc[i, 'Style']):\n",
    "        print(product_data_all.loc[i, 'Style'])"
   ]
  },
  {
   "cell_type": "code",
   "execution_count": null,
   "id": "154d018b-20a2-46ae-8148-65c92590e377",
   "metadata": {
    "scrolled": true
   },
   "outputs": [],
   "source": [
    "# Room_Type \n",
    "\n",
    "redundant = ['etc', 'di', 'etc.', 'office.', 'dinning room', 'living room dining room', 'dining room living room', 'nursery room', 'hallways', 'kitchen room', 'liberary', 'nursary', 'bedoom', 'sturdy room', \n",
    "             'homehouse', 'librar', 'dinning rooms', \"kid's room\", 'kids room', 'kids room nursery', 'kids', 'bedroom dining room dorm room home office kids room living room nursery playroom study room',\n",
    "             'kid room', 'bathroom bedroom dining room dorm room home office kids room kitchen laundry room living room', \"kids' room\", \"kid’s room\", \n",
    "             'bedroom dining room dorm room home ofice kids room kitchen laundry room', 'kids nursery', 'bedroom living room dining room kids room girls room boys room kitchen home office', 'multiple room types',\n",
    "             'multiple rooms', 'playroom', 'play room', 'living room nursery playroom study room', 'study reading room', 'study room', 'living room', 'bedroom kitchen island living room dinning room home office',\n",
    "             'living rooms', 'bedroom living room', 'bathroom living room', 'livingroom', 'living room bedroom', 'incl. living room', 'office bedroom', 'bedroom and office', 'socket ceiling fan for bedroom',\n",
    "             'indoor for bedroom', 'bedroom kitchen dining room', 'indoor ceiling fans for bedroom', 'dining room nl bedroom', 'bedrooms', 'dining room', \n",
    "             'high cfm ceiling fan for exterior interior dining room family room', 'diningroom', 'office room', 'office-9w', 'office island aisle hotel room cafe school', 'home or oudoor'\n",
    "             'modern farmhouse ceiling fan for high medium low sloped ceiling', '3 blade commercial industrial residential ceiling fan with light', 'patios', 'outdoor ceiling fans for patios', 'patio garden',\n",
    "             'outdoor patio', 'and more.', 'indoor places', 'office and other indoor space', 'coverd outdoor', 'outdoors', 'outdoor for porch', 'covered outdoor areas']\n",
    "\n",
    "room_type_enum = delim_split('Room_Type', redundant)\n",
    "\n",
    "room_type_enum.loc[len(room_type_enum)] = [len(room_type_enum)+1, 'kid']\n",
    "room_type_enum.loc[len(room_type_enum)] = [len(room_type_enum)+1, 'play']\n",
    "room_type_enum.loc[len(room_type_enum)] = [len(room_type_enum)+1, 'dining']\n",
    "\n",
    "product_data_all['Room_Type'] = enum_attr('Room_Type', room_type_enum)\n",
    "\n",
    "room_type_enum.to_csv('/Users/fei/Desktop/Mixer/Room_Type_enum.csv', index=False)\n",
    "\n",
    "for i in range(len(product_data_all)):\n",
    "    if not pd.isnull(product_data_all.loc[i, 'Room_Type']):\n",
    "        print(product_data_all.loc[i, 'Room_Type'])"
   ]
  },
  {
   "cell_type": "code",
   "execution_count": null,
   "id": "d8cdfb14-f7c2-4651-8d0a-36b1346cbb15",
   "metadata": {
    "scrolled": true
   },
   "outputs": [],
   "source": [
    "# Special_Feature \n",
    "\n",
    "redundant = ['enc', 'n\\\\\\\\a', 'etc.', \"'foldable']\", \"['portable'\"]\n",
    "\n",
    "special_feature_enum = delim_split('Special_Feature', redundant)\n",
    "\n",
    "product_data_all['Special_Feature'] = enum_attr('Special_Feature', special_feature_enum)\n",
    "\n",
    "special_feature_enum.to_csv('/Users/fei/Desktop/Mixer/Special_Feature_enum.csv', index=False)\n",
    "\n",
    "for i in range(len(product_data_all)):\n",
    "    if not pd.isnull(product_data_all.loc[i, 'Special_Feature']):\n",
    "        print(product_data_all.loc[i, 'Special_Feature'])"
   ]
  },
  {
   "cell_type": "code",
   "execution_count": null,
   "id": "72d83e4e-5998-4c15-802a-5a5fee0bafa0",
   "metadata": {
    "scrolled": true
   },
   "outputs": [],
   "source": [
    "# Recommended_Uses_For_Product \n",
    "\n",
    "redundant = ['no', 'etc', 'etc.']\n",
    "\n",
    "Recommended_Uses_For_Product_enum = delim_split('Recommended_Uses_For_Product', redundant)\n",
    "\n",
    "product_data_all['Recommended_Uses_For_Product'] = enum_attr('Recommended_Uses_For_Product', Recommended_Uses_For_Product_enum)\n",
    "\n",
    "Recommended_Uses_For_Product_enum.to_csv('/Users/fei/Desktop/Mixer/Recommended_Uses_For_Product_enum.csv', index=False)\n",
    "\n",
    "for i in range(len(product_data_all)):\n",
    "    if not pd.isnull(product_data_all.loc[i, 'Recommended_Uses_For_Product']):\n",
    "        print(product_data_all.loc[i, 'Recommended_Uses_For_Product'])"
   ]
  },
  {
   "cell_type": "code",
   "execution_count": null,
   "id": "686e8335-a8d4-4d8f-9632-152430abac16",
   "metadata": {
    "scrolled": true
   },
   "outputs": [],
   "source": [
    "# Wattage \n",
    "\n",
    "value_unit_split('Wattage', 'watts')\n",
    "\n",
    "index = product_data_all.columns.get_loc('Wattage')\n",
    "\n",
    "for i in range(len(product_data_all)):\n",
    "    if not pd.isnull(product_data_all.loc[i, 'Wattage']):\n",
    "        print(product_data_all.iloc[i, index:index+3])"
   ]
  },
  {
   "cell_type": "code",
   "execution_count": null,
   "id": "8f08c853-7b64-42fa-a841-ac2168966b1a",
   "metadata": {
    "scrolled": true
   },
   "outputs": [],
   "source": [
    "# Voltage \n",
    "\n",
    "value_unit_split('Voltage', 'Volts')\n",
    "\n",
    "index = product_data_all.columns.get_loc('Voltage')\n",
    "\n",
    "for i in range(len(product_data_all)):\n",
    "    if not pd.isnull(product_data_all.loc[i, 'Voltage']):\n",
    "        print(product_data_all.iloc[i, index:index+3])"
   ]
  },
  {
   "cell_type": "code",
   "execution_count": null,
   "id": "c1daa0e2-0033-4d4b-92c0-1174d41aa413",
   "metadata": {
    "scrolled": true
   },
   "outputs": [],
   "source": [
    "# Switch_Type \n",
    "\n",
    "redundant = ['remote contrl', 'remote control', 'off switch', 'push button', 'vocie &app control', 'smartphone app', 'voice command', 'off switch', 'push button or app', 'dimmer switch', 'on-off knob switch', \n",
    "             'app control', 'rotary or push switch', 'rotary knob switch', 'rotary dial', 'rotary & touch', 'knob control', '3 speed pull chain', 'push button\" or \"slide', 'ceiling fans with lights and remote control', \n",
    "             'touchpad', 'remote & foot switch & phone app', 'remote and wall switch', 'touch control & romote control', 'buttons', 'foot switch', 'basic on']\n",
    "\n",
    "Switch_Type_enum = delim_split('Switch_Type', redundant)\n",
    "\n",
    "product_data_all['Switch_Type'] = enum_attr('Switch_Type', Switch_Type_enum)\n",
    "\n",
    "Switch_Type_enum.to_csv('/Users/fei/Desktop/Mixer/Switch_Type_enum.csv', index=False)\n",
    "\n",
    "for i in range(len(product_data_all)):\n",
    "    if not pd.isnull(product_data_all.loc[i, 'Switch_Type']):\n",
    "        print(product_data_all.loc[i, 'Switch_Type'])"
   ]
  },
  {
   "cell_type": "code",
   "execution_count": null,
   "id": "ef4fdb1a-deb4-41c1-a3ec-29e4d43a1274",
   "metadata": {
    "scrolled": true
   },
   "outputs": [],
   "source": [
    "# Included_Components \n",
    "\n",
    "redundant = ['no', 'non', '0.1', 'dw']\n",
    "\n",
    "Included_Components_enum = delim_split('Included_Components', redundant)\n",
    "\n",
    "product_data_all['Included_Components'] = enum_attr('Included_Components', Included_Components_enum)\n",
    "\n",
    "Included_Components_enum.to_csv('/Users/fei/Desktop/Mixer/Included_Components_enum.csv', index=False)\n",
    "\n",
    "for i in range(len(product_data_all)):\n",
    "    if not pd.isnull(product_data_all.loc[i, 'Included_Components']):\n",
    "        print(product_data_all.loc[i, 'Included_Components'])"
   ]
  },
  {
   "cell_type": "code",
   "execution_count": null,
   "id": "0b5dad1a-68d9-4246-ac5b-0120a488b0d6",
   "metadata": {
    "scrolled": true
   },
   "outputs": [],
   "source": [
    "# Indoor/Outdoor_Usage \n",
    "\n",
    "for i in range(len(product_data_all)):\n",
    "    if not pd.isnull(product_data_all.loc[i, 'Indoor/Outdoor_Usage']):\n",
    "        if product_data_all.loc[i, 'Indoor/Outdoor_Usage'] == 'Outdoor, Indoor':\n",
    "            product_data_all.loc[i, 'Indoor/Outdoor_Usage'] = 'Both'\n",
    "\n",
    "for i in range(len(product_data_all)):\n",
    "    if not pd.isnull(product_data_all.loc[i, 'Indoor/Outdoor_Usage']):\n",
    "        print(product_data_all.loc[i, 'Indoor/Outdoor_Usage'])"
   ]
  },
  {
   "cell_type": "code",
   "execution_count": null,
   "id": "370cfb3a-4391-4acc-a4a0-4a180762b824",
   "metadata": {
    "scrolled": true
   },
   "outputs": [],
   "source": [
    "# Control_Method \n",
    "\n",
    "Control_Method_enum = delim_split('Control_Method')\n",
    "\n",
    "product_data_all['Control_Method'] = enum_attr('Control_Method', Control_Method_enum)\n",
    "\n",
    "Control_Method_enum.to_csv('/Users/fei/Desktop/Mixer/Control_Method_enum.csv', index=False)\n",
    "\n",
    "for i in range(len(product_data_all)):\n",
    "    if not pd.isnull(product_data_all.loc[i, 'Control_Method']):\n",
    "        print(product_data_all.loc[i, 'Control_Method'])"
   ]
  },
  {
   "cell_type": "code",
   "execution_count": null,
   "id": "b1ddc01d-fe8d-422c-be3f-24f0b118d6f0",
   "metadata": {
    "scrolled": true
   },
   "outputs": [],
   "source": [
    "# Best_Sellers_Rank \n",
    "\n",
    "first_rank = []\n",
    "first_category = []\n",
    "second_rank = []\n",
    "second_category = []\n",
    "third_rank = []\n",
    "third_category = []\n",
    "fourth_rank = []\n",
    "fourth_category = []\n",
    "\n",
    "for i in range(len(product_data_all)):\n",
    "    if not pd.isnull(product_data_all.loc[i, 'Best_Sellers_Rank']):\n",
    "        split = [term.strip() for term in product_data_all.loc[i, 'Best_Sellers_Rank'].split('#')]\n",
    "        split = [term for term in split if term != '']\n",
    "        sep = [s.split('in', maxsplit=1) for s in split]\n",
    "        for section in sep:\n",
    "            section[0] = section[0].replace(',', '').strip()\n",
    "            ind = section[1].find('(')\n",
    "            section[1] = section[1][:ind].strip()\n",
    "        first_rank.append(sep[0][0])\n",
    "        first_category.append(sep[0][1])\n",
    "\n",
    "        sr, sc, tr, tc, fr, fc = None, None, None, None, None, None\n",
    "        \n",
    "        if len(sep) > 1:\n",
    "            sr = sep[1][0]\n",
    "            sc = sep[1][1]\n",
    "        if len(sep) > 2:\n",
    "            tr = sep[2][0]\n",
    "            tc = sep[2][1]\n",
    "        if len(sep) > 3:\n",
    "            fr = sep[3][0]\n",
    "            fc = sep[3][1]\n",
    "            \n",
    "        second_rank.append(sr)\n",
    "        second_category.append(sc)\n",
    "        third_rank.append(tr)\n",
    "        third_category.append(tc)\n",
    "        fourth_rank.append(fr)\n",
    "        fourth_category.append(fc)\n",
    "        \n",
    "    else:\n",
    "        first_rank.append(None)\n",
    "        first_category.append(None)\n",
    "        second_rank.append(None)\n",
    "        second_category.append(None)\n",
    "        third_rank.append(None)\n",
    "        third_category.append(None)\n",
    "        fourth_rank.append(None)\n",
    "        fourth_category.append(None)\n",
    "\n",
    "index = product_data_all.columns.get_loc('Best_Sellers_Rank')\n",
    "\n",
    "product_data_all.insert(index+1, 'Best_Sellers_First_Rank', first_rank)\n",
    "product_data_all.insert(index+2, 'Best_Sellers_First_Category', first_category)\n",
    "product_data_all.insert(index+3, 'Best_Sellers_Second_Rank', second_rank)\n",
    "product_data_all.insert(index+4, 'Best_Sellers_Second_Category', second_category)\n",
    "product_data_all.insert(index+5, 'Best_Sellers_Third_Rank', third_rank)\n",
    "product_data_all.insert(index+6, 'Best_Sellers_Third_Category', third_category)\n",
    "product_data_all.insert(index+7, 'Best_Sellers_Fourth_Rank', fourth_rank)\n",
    "product_data_all.insert(index+8, 'Best_Sellers_Fourth_Category', fourth_category)\n",
    "\n",
    "for i in range(len(product_data_all)):\n",
    "    if not pd.isnull(product_data_all.loc[i, 'Best_Sellers_Rank']):\n",
    "        print(product_data_all.iloc[i, index:index+9])"
   ]
  },
  {
   "cell_type": "code",
   "execution_count": null,
   "id": "c056878a-de36-4784-b379-0dcb16c75635",
   "metadata": {
    "scrolled": true
   },
   "outputs": [],
   "source": [
    "# Material \n",
    "\n",
    "redundant = ['other-materials']\n",
    "\n",
    "Material_enum = delim_split('Material', redundant)\n",
    "\n",
    "product_data_all['Material'] = enum_attr('Material', Material_enum)\n",
    "\n",
    "Material_enum.to_csv('/Users/fei/Desktop/Mixer/Material_enum.csv', index=False)\n",
    "\n",
    "for i in range(len(product_data_all)):\n",
    "    if not pd.isnull(product_data_all.loc[i, 'Material']):\n",
    "        print(product_data_all.loc[i, 'Material'])"
   ]
  },
  {
   "cell_type": "code",
   "execution_count": null,
   "id": "ca253478-3444-4e78-89f5-cc9cf6d9a5fe",
   "metadata": {
    "scrolled": true
   },
   "outputs": [],
   "source": [
    "# Theme \n",
    "\n",
    "Theme_enum = delim_split('Theme')\n",
    "\n",
    "product_data_all['Theme'] = enum_attr('Theme', Theme_enum)\n",
    "\n",
    "Theme_enum.to_csv('/Users/fei/Desktop/Mixer/Theme_enum.csv', index=False)\n",
    "\n",
    "for i in range(len(product_data_all)):\n",
    "    if not pd.isnull(product_data_all.loc[i, 'Theme']):\n",
    "        print(product_data_all.loc[i, 'Theme'])"
   ]
  },
  {
   "cell_type": "code",
   "execution_count": null,
   "id": "f6524da2-060d-4879-b363-7013ce62f546",
   "metadata": {
    "scrolled": true
   },
   "outputs": [],
   "source": [
    "# Shape \n",
    "\n",
    "redundant = ['TRUE']\n",
    "\n",
    "Shape_enum = delim_split('Shape', redundant)\n",
    "\n",
    "product_data_all['Shape'] = enum_attr('Shape', Shape_enum)\n",
    "\n",
    "Shape_enum.to_csv('/Users/fei/Desktop/Mixer/Shape_enum.csv', index=False)\n",
    "\n",
    "for i in range(len(product_data_all)):\n",
    "    if not pd.isnull(product_data_all.loc[i, 'Shape']):\n",
    "        print(product_data_all.loc[i, 'Shape'])"
   ]
  },
  {
   "cell_type": "code",
   "execution_count": null,
   "id": "c47febbc-6f8e-4eb9-98c0-460903aee8ef",
   "metadata": {
    "scrolled": true
   },
   "outputs": [],
   "source": [
    "# Mounting_Type \n",
    "\n",
    "Mounting_Type_enum = delim_split('Mounting_Type')\n",
    "\n",
    "product_data_all['Mounting_Type'] = enum_attr('Mounting_Type', Mounting_Type_enum)\n",
    "\n",
    "Mounting_Type_enum.to_csv('/Users/fei/Desktop/Mixer/Mounting_Type_enum.csv', index=False)\n",
    "\n",
    "for i in range(len(product_data_all)):\n",
    "    if not pd.isnull(product_data_all.loc[i, 'Mounting_Type']):\n",
    "        print(product_data_all.loc[i, 'Mounting_Type'])"
   ]
  },
  {
   "cell_type": "code",
   "execution_count": null,
   "id": "ef1bfa8d-f8cb-4426-ad74-cd0d145d8a9a",
   "metadata": {
    "scrolled": true
   },
   "outputs": [],
   "source": [
    "# Finish_Type \n",
    "\n",
    "redundant = ['painted finish', 'painted or powder coated', 'hand painted', 'painted or plastic coated', 'painted]']\n",
    "\n",
    "Finish_Type_enum = delim_split('Finish_Type', redundant)\n",
    "\n",
    "product_data_all['Finish_Type'] = enum_attr('Finish_Type', Finish_Type_enum)\n",
    "\n",
    "Finish_Type_enum.to_csv('/Users/fei/Desktop/Mixer/Finish_Type_enum.csv', index=False)\n",
    "\n",
    "for i in range(len(product_data_all)):\n",
    "    if not pd.isnull(product_data_all.loc[i, 'Finish_Type']):\n",
    "        print(product_data_all.loc[i, 'Finish_Type'])"
   ]
  },
  {
   "cell_type": "code",
   "execution_count": null,
   "id": "ed777a0e-0e75-4f3b-889d-6553029ded55",
   "metadata": {
    "scrolled": true
   },
   "outputs": [],
   "source": [
    "# Unit_Count\n",
    "\n",
    "value_unit_split('Unit_Count', 'Count')\n",
    "product_data_all['Unit_Count_Value'] = product_data_all['Unit_Count_Value'].astype(float).round().astype('Int64')\n",
    "\n",
    "index = product_data_all.columns.get_loc('Unit_Count')\n",
    "\n",
    "for i in range(len(product_data_all)):\n",
    "    if not pd.isnull(product_data_all.loc[i, 'Unit_Count']):\n",
    "        print(product_data_all.iloc[i, index:index+3])"
   ]
  },
  {
   "cell_type": "code",
   "execution_count": null,
   "id": "155c2554-d648-4382-897f-772755017848",
   "metadata": {
    "scrolled": true
   },
   "outputs": [],
   "source": [
    "# Package_Dimensions \n",
    "\n",
    "dimension_split('Package_Dimensions')\n",
    "\n",
    "index = product_data_all.columns.get_loc('Package_Dimensions')\n",
    "\n",
    "for i in range(len(product_data_all)):\n",
    "    if not pd.isnull(product_data_all.loc[i, 'Package_Dimensions']):\n",
    "        print(product_data_all.iloc[i, index:index+5])"
   ]
  },
  {
   "cell_type": "code",
   "execution_count": null,
   "id": "aa4b7d80-fdbe-40b8-809f-91033bc08cc4",
   "metadata": {
    "scrolled": true
   },
   "outputs": [],
   "source": [
    "# Pattern \n",
    "\n",
    "redundant = ['non', 'no', 'fans']\n",
    "\n",
    "Pattern_enum = delim_split('Pattern', redundant)\n",
    "\n",
    "product_data_all['Pattern'] = enum_attr('Pattern', Pattern_enum)\n",
    "\n",
    "Pattern_enum.to_csv('/Users/fei/Desktop/Mixer/Pattern_enum.csv', index=False)\n",
    "\n",
    "for i in range(len(product_data_all)):\n",
    "    if not pd.isnull(product_data_all.loc[i, 'Pattern']):\n",
    "        print(product_data_all.loc[i, 'Pattern'])"
   ]
  },
  {
   "cell_type": "code",
   "execution_count": null,
   "id": "157b422c-ebb4-48ad-950e-affeb809866c",
   "metadata": {
    "scrolled": true
   },
   "outputs": [],
   "source": [
    "# Product_Care_Instructions \n",
    "\n",
    "redundant = ['no']\n",
    "\n",
    "Product_Care_Instructions_enum = delim_split('Product_Care_Instructions', redundant)\n",
    "\n",
    "product_data_all['Product_Care_Instructions'] = enum_attr('Product_Care_Instructions', Product_Care_Instructions_enum)\n",
    "\n",
    "Product_Care_Instructions_enum.to_csv('/Users/fei/Desktop/Mixer/Product_Care_Instructions_enum.csv', index=False)\n",
    "\n",
    "for i in range(len(product_data_all)):\n",
    "    if not pd.isnull(product_data_all.loc[i, 'Product_Care_Instructions']):\n",
    "        print(product_data_all.loc[i, 'Product_Care_Instructions'])"
   ]
  },
  {
   "cell_type": "code",
   "execution_count": null,
   "id": "ee4020f6-2dea-4f45-ae4d-17c8685b4b0e",
   "metadata": {
    "scrolled": true
   },
   "outputs": [],
   "source": [
    "# Package_Weight \n",
    "\n",
    "value_unit_split('Package_Weight')\n",
    "\n",
    "index = product_data_all.columns.get_loc('Package_Weight')\n",
    "\n",
    "for i in range(len(product_data_all)):\n",
    "    if not pd.isnull(product_data_all.loc[i, 'Package_Weight']):\n",
    "        print(product_data_all.iloc[i, index:index+3])"
   ]
  },
  {
   "cell_type": "code",
   "execution_count": null,
   "id": "595e6255-5e9e-43ca-80e1-e1069da0aeaa",
   "metadata": {
    "scrolled": true
   },
   "outputs": [],
   "source": [
    "# Suggested_Users \n",
    "\n",
    "redundant = ['unisex-teen', 'unisex-adult unisex-child mens womens', 'coolflo batting helmet cfabhn', 'batting helmets', 'unisex adult&youth', 'unisex_youth', 'mens', 'adults', 'unisex-adult', 'unisex-youth',\n",
    "             'unisex youth', 'adult & teenager', 'unisex adult', 'unisex-child', 'z5 solid senior batting helmet']\n",
    "\n",
    "Suggested_Users_enum = delim_split('Suggested_Users', redundant)\n",
    "\n",
    "product_data_all['Suggested_Users'] = enum_attr('Suggested_Users', Suggested_Users_enum)\n",
    "\n",
    "Suggested_Users_enum.to_csv('/Users/fei/Desktop/Mixer/Suggested_Users_enum.csv', index=False)\n",
    "\n",
    "for i in range(len(product_data_all)):\n",
    "    if not pd.isnull(product_data_all.loc[i, 'Suggested_Users']):\n",
    "        print(product_data_all.loc[i, 'Suggested_Users'])"
   ]
  },
  {
   "cell_type": "code",
   "execution_count": null,
   "id": "8181800e-871d-409f-8532-666e01c3d306",
   "metadata": {},
   "outputs": [],
   "source": [
    "# drop the columns from which we extracted and separated values and units\n",
    "\n",
    "product_data_all.drop(columns=['Item_Weight', 'Item_Dimensions', 'Wattage', 'Voltage', 'Best_Sellers_Rank', 'Unit_Count', 'Package_Dimensions', 'Package_Weight'], inplace=True)"
   ]
  },
  {
   "cell_type": "code",
   "execution_count": null,
   "id": "7775aaec-4898-4c23-b259-47723cebed02",
   "metadata": {},
   "outputs": [],
   "source": [
    "# convert the following columns to desired data types\n",
    "\n",
    "convert_to_int64 = ['Number_of_Ratings', 'Monthly_Purchases', 'Number_of_Items', 'Number_of_Pieces']\n",
    "\n",
    "for column in convert_to_int64:\n",
    "    product_data_all[column] = product_data_all[column].astype('Int64')"
   ]
  },
  {
   "cell_type": "code",
   "execution_count": null,
   "id": "43975e9e-7908-465f-b0d0-e484bb2356d3",
   "metadata": {},
   "outputs": [],
   "source": [
    "product_data_all.to_csv('name of final csv', index=False)"
   ]
  }
 ],
 "metadata": {
  "kernelspec": {
   "display_name": "Python 3 (ipykernel)",
   "language": "python",
   "name": "python3"
  },
  "language_info": {
   "codemirror_mode": {
    "name": "ipython",
    "version": 3
   },
   "file_extension": ".py",
   "mimetype": "text/x-python",
   "name": "python",
   "nbconvert_exporter": "python",
   "pygments_lexer": "ipython3",
   "version": "3.11.4"
  }
 },
 "nbformat": 4,
 "nbformat_minor": 5
}
