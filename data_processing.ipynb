{
 "cells": [
  {
   "cell_type": "code",
   "execution_count": 16,
   "id": "c2d138cf-01a4-44f4-ae94-5e0b5da85ab6",
   "metadata": {},
   "outputs": [],
   "source": [
    "import pandas as pd\n",
    "import os \n",
    "import re"
   ]
  },
  {
   "cell_type": "markdown",
   "id": "f6f78fd8-6e3a-46bf-9529-16edd4cbf611",
   "metadata": {},
   "source": [
    "# Clean Data"
   ]
  },
  {
   "cell_type": "code",
   "execution_count": 3,
   "id": "f4f20874-2b94-4f2b-8580-f1dfda10e79b",
   "metadata": {},
   "outputs": [
    {
     "name": "stdout",
     "output_type": "stream",
     "text": [
      "                                                Name  \\\n",
      "0  Samsill Durable 4 Inch Binder, Made in the USA...   \n",
      "1  Leather Binder 3 Ring with Clipboard,Zipper Po...   \n",
      "2  3 Ring Binder 0.5 Inch - Girls Pastel School B...   \n",
      "3  Teling 4 Pcs Zipper Binder with 3 Ring Zipper ...   \n",
      "4  3 Inch Zipper Binder 3 Ring with Sturdy Should...   \n",
      "\n",
      "                                        Rating Number of Ratings  \\\n",
      "0                           4.5 out of 5 stars     6,642 ratings   \n",
      "1                           4.8 out of 5 stars         7 ratings   \n",
      "2  Previous page of related Sponsored Products               NaN   \n",
      "3                           4.4 out of 5 stars        24 ratings   \n",
      "4                           4.8 out of 5 stars        31 ratings   \n",
      "\n",
      "           Monthly Purchases   Price  \\\n",
      "0   1K+ bought in past month  $17.99   \n",
      "1                        NaN  $29.99   \n",
      "2                        NaN  $21.99   \n",
      "3   50+ bought in past month  $24.99   \n",
      "4  100+ bought in past month  $51.99   \n",
      "\n",
      "                                 Product Information  \n",
      "0  Product information \\n      Technical Details ...  \n",
      "1  Product information \\n      Technical Details ...  \n",
      "2  Product information \\n      Technical Details ...  \n",
      "3  Product information \\n      Technical Details ...  \n",
      "4  Product information \\n      Technical Details ...  \n",
      "(6024, 6)\n"
     ]
    }
   ],
   "source": [
    "# Clean data\n",
    "import os\n",
    "\n",
    "folder_path = '/Users/fei/Desktop/Mixer/web_crawler'\n",
    "\n",
    "dfs = [] # list to hold all dataframes prior to concatenation\n",
    "\n",
    "for file_name in os.listdir(folder_path):\n",
    "    if file_name.endswith('.csv'):\n",
    "        file_path = os.path.join(folder_path, file_name)\n",
    "        df = pd.read_csv(file_path)\n",
    "        dfs.append(df)\n",
    "\n",
    "product_data_all = pd.concat(dfs)\n",
    "\n",
    "print(product_data_all.head())\n",
    "print(product_data_all.shape)"
   ]
  },
  {
   "cell_type": "code",
   "execution_count": 4,
   "id": "636a57e8-5bcc-4b69-b031-34ff51fec08f",
   "metadata": {},
   "outputs": [
    {
     "data": {
      "text/plain": [
       "Name                      0\n",
       "Rating                    0\n",
       "Number of Ratings       553\n",
       "Monthly Purchases      2091\n",
       "Price                   677\n",
       "Product Information      12\n",
       "dtype: int64"
      ]
     },
     "execution_count": 4,
     "metadata": {},
     "output_type": "execute_result"
    }
   ],
   "source": [
    "product_data_all.isna().sum()"
   ]
  },
  {
   "cell_type": "code",
   "execution_count": 5,
   "id": "9ec797dc-1ae9-4c11-a09a-9712870e3fff",
   "metadata": {},
   "outputs": [
    {
     "data": {
      "text/plain": [
       "2307"
      ]
     },
     "execution_count": 5,
     "metadata": {},
     "output_type": "execute_result"
    }
   ],
   "source": [
    "product_data_all.isna().any(axis=1).sum()"
   ]
  },
  {
   "cell_type": "code",
   "execution_count": 51,
   "id": "0332997a-e4ca-4233-8e8c-7754d9678c94",
   "metadata": {},
   "outputs": [],
   "source": [
    "test = product_data_all.iloc[2, 5]"
   ]
  },
  {
   "cell_type": "code",
   "execution_count": 53,
   "id": "1fa054e0-3136-43e8-bc5a-54201230259a",
   "metadata": {},
   "outputs": [
    {
     "data": {
      "text/plain": [
       "'Product information \\n      Technical Details         Manufacturer  \\n                                            \\u200eApipi     Brand  \\n                                            \\u200eApipi     Item Weight  \\n                                            \\u200e1.87 pounds     Product Dimensions  \\n                                            \\u200e12.4 x 9.8 x 0.04 inches     Item model number  \\n                                            \\u200eApipi-0.5inch-4pack-Binders     Color  \\n                                            \\u200ePink, Blue, Purple, Light Green     Material Type  \\n                                            \\u200ePlastic     Number of Items  \\n                                            \\u200e4     Size  \\n                                            \\u200e0.5inch     Sheet Size  \\n                                            \\u200eA4 Inches     Manufacturer Part Number  \\n                                            \\u200eApipi-0.5inch-4pack-Binders               Additional Information     ASIN   B0D3LGDYLP     Best Sellers Rank    #81,922 in Office Products (See Top 100 in Office Products)  #473 in Round Ring Binders       Date First Available   July 11, 2024'"
      ]
     },
     "execution_count": 53,
     "metadata": {},
     "output_type": "execute_result"
    }
   ],
   "source": [
    "test"
   ]
  },
  {
   "cell_type": "code",
   "execution_count": 55,
   "id": "d1c01ae4-01f1-4d6c-aa00-bb804bf2993e",
   "metadata": {},
   "outputs": [
    {
     "data": {
      "text/plain": [
       "'Manufacturer                                              Apipi     Brand                                              Apipi     Item Weight                                              1.87 pounds     Product Dimensions                                              12.4 x 9.8 x 0.04 inches     Item model number                                              Apipi-0.5inch-4pack-Binders     Color                                              Pink, Blue, Purple, Light Green     Material Type                                              Plastic     Number of Items                                              4     Size                                              0.5inch     Sheet Size                                              A4 Inches     Manufacturer Part Number                                              Apipi-0.5inch-4pack-Binders                   ASIN   B0D3LGDYLP     Best Sellers Rank    #81,922 in Office Products (See Top 100 in Office Products)  #473 in Round Ring Binders       Date First Available   July 11, 2024'"
      ]
     },
     "execution_count": 55,
     "metadata": {},
     "output_type": "execute_result"
    }
   ],
   "source": [
    "# remove unwanted strings\n",
    "\n",
    "while \"\\n\" in test or \"\\u200e\" in test or \"Product information\" in test or \"Technical Details\" in test or \"Additional Information\" in test or \"out of 5 stars\" in test:\n",
    "    if \"\\n\" in test:\n",
    "        index = test.find(\"\\n\")\n",
    "        test = test[:index] + test[index+1:]\n",
    "    if \"\\u200e\" in test:\n",
    "        index1 = test.find(\"\\u200e\")\n",
    "        test = test[:index1] + test[index1+1:]\n",
    "    if \"Product information\" in test:\n",
    "        index2 = test.find(\"Product information\")\n",
    "        test = test[:index2] + test[index2+20:]\n",
    "    if \"Technical Details\" in test:\n",
    "        index3 = test.find(\"Technical Details\")\n",
    "        test = test[:index3] + test[index3+18:]\n",
    "    if \"Additional Information\" in test:\n",
    "        index4 = test.find(\"Additional Information\")\n",
    "        test = test[:index4] + test[index4+23:]\n",
    "    if \"out of 5 stars\" in test:\n",
    "        index5a = test.find(\"Customer Reviews\")\n",
    "        matches = re.finditer(\"out of 5 stars\", test)\n",
    "        positions = [match.start() for match in matches]\n",
    "        index5b = positions[-1]\n",
    "        test = test[:index5a] + test[index5b+14:]\n",
    "        \n",
    "test = test.strip()\n",
    "test"
   ]
  },
  {
   "cell_type": "code",
   "execution_count": 57,
   "id": "f063f33e-cf29-4b0d-aea2-6e9b1de25f54",
   "metadata": {},
   "outputs": [
    {
     "data": {
      "text/plain": [
       "['Manufacturer',\n",
       " 'Apipi',\n",
       " 'Brand',\n",
       " 'Apipi',\n",
       " 'Item Weight',\n",
       " '1.87 pounds',\n",
       " 'Product Dimensions',\n",
       " '12.4 x 9.8 x 0.04 inches',\n",
       " 'Item model number',\n",
       " 'Apipi-0.5inch-4pack-Binders',\n",
       " 'Color',\n",
       " 'Pink, Blue, Purple, Light Green',\n",
       " 'Material Type',\n",
       " 'Plastic',\n",
       " 'Number of Items',\n",
       " '4',\n",
       " 'Size',\n",
       " '0.5inch',\n",
       " 'Sheet Size',\n",
       " 'A4 Inches',\n",
       " 'Manufacturer Part Number',\n",
       " 'Apipi-0.5inch-4pack-Binders',\n",
       " 'ASIN',\n",
       " 'B0D3LGDYLP',\n",
       " 'Best Sellers Rank',\n",
       " '#81,922 in Office Products (See Top 100 in Office Products)  #473 in Round Ring Binders',\n",
       " 'Date First Available',\n",
       " 'July 11, 2024']"
      ]
     },
     "execution_count": 57,
     "metadata": {},
     "output_type": "execute_result"
    }
   ],
   "source": [
    "raw_terms = test.split(\"   \")\n",
    "\n",
    "while \"\" in raw_terms:\n",
    "    for term in raw_terms:\n",
    "        if term == \"\":\n",
    "            raw_terms.remove(term)\n",
    "\n",
    "terms = [term.strip() for term in raw_terms]\n",
    "terms"
   ]
  },
  {
   "cell_type": "code",
   "execution_count": 59,
   "id": "66efee63-b9e7-497d-8e49-e6ab0b27bc47",
   "metadata": {},
   "outputs": [
    {
     "data": {
      "text/plain": [
       "28"
      ]
     },
     "execution_count": 59,
     "metadata": {},
     "output_type": "execute_result"
    }
   ],
   "source": [
    "len(terms)"
   ]
  },
  {
   "cell_type": "code",
   "execution_count": 61,
   "id": "8f8dd973-5f8c-43f8-943b-8bdd1d7b6547",
   "metadata": {},
   "outputs": [
    {
     "name": "stdout",
     "output_type": "stream",
     "text": [
      "Manufacturer: Apipi\n",
      "Brand: Apipi\n",
      "Item Weight: 1.87 pounds\n",
      "Product Dimensions: 12.4 x 9.8 x 0.04 inches\n",
      "Item model number: Apipi-0.5inch-4pack-Binders\n",
      "Color: Pink, Blue, Purple, Light Green\n",
      "Material Type: Plastic\n",
      "Number of Items: 4\n",
      "Size: 0.5inch\n",
      "Sheet Size: A4 Inches\n",
      "Manufacturer Part Number: Apipi-0.5inch-4pack-Binders\n",
      "ASIN: B0D3LGDYLP\n",
      "Best Sellers Rank: #81,922 in Office Products (See Top 100 in Office Products)  #473 in Round Ring Binders\n",
      "Date First Available: July 11, 2024\n"
     ]
    }
   ],
   "source": [
    "product_info_cat = {}\n",
    "\n",
    "indices = list(range(0, len(terms)-1, 2))\n",
    "\n",
    "for i in indices:\n",
    "    if i % 2 == 0:\n",
    "        product_info_cat[terms[i]] = terms[i+1]\n",
    "\n",
    "for key, value in product_info_cat.items():\n",
    "    print(f\"{key}: {value}\")"
   ]
  },
  {
   "cell_type": "code",
   "execution_count": null,
   "id": "f8aebca4-3ee2-43c0-bb85-69c15390adcf",
   "metadata": {},
   "outputs": [],
   "source": [
    "# for i in range(len(product_data_all)):\n",
    "#     if \"out of 5 stars\" in product_data_all['Rating'][i]:\n",
    "#         product_data_all['Rating'][i] = product_data_all['Rating'][i][:3]\n",
    "#     if \"ratings\" in product_data_all['Number of Ratings'][i]:\n",
    "#         product_data_all['Number of Ratings'][i] = product_data_all['Number of Ratings'][i][:-8]\n",
    "#     if \"+ bought in past month\" in product_data_all['Monthly Purchases'][i]:\n",
    "#         product_data_all['Monthly Purchases'][i] = product_data_all['Monthly Purchases'][i][:-22]\n",
    "#     if \"K\" in product_data_all['Monthly Purchases'][i]:\n",
    "#         product_data_all['Monthly Purchases'][i] = int(product_data_all['Monthly Purchases'][i][:-1]) * 1000\n",
    "#     if \"$\" in product_data_all['Price'][i]:\n",
    "#         product_data_all['Price'][i] = product_data_all['Price'][i][1:]\n",
    "\n",
    "# product_data_all['Rating'].astype(float)\n",
    "# #product_data_all['Number of Ratings'].astype(int)\n",
    "# product_data_all['Monthly Purchases'].astype(int)\n",
    "# product_data_all['Price'].astype(float)\n",
    "# product_data_all.head()"
   ]
  }
 ],
 "metadata": {
  "kernelspec": {
   "display_name": "Python 3 (ipykernel)",
   "language": "python",
   "name": "python3"
  },
  "language_info": {
   "codemirror_mode": {
    "name": "ipython",
    "version": 3
   },
   "file_extension": ".py",
   "mimetype": "text/x-python",
   "name": "python",
   "nbconvert_exporter": "python",
   "pygments_lexer": "ipython3",
   "version": "3.11.4"
  }
 },
 "nbformat": 4,
 "nbformat_minor": 5
}
